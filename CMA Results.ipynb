{
 "cells": [
  {
   "cell_type": "code",
   "execution_count": 1,
   "id": "35cd4521",
   "metadata": {},
   "outputs": [],
   "source": [
    "import pickle\n",
    "import numpy as np\n",
    "import operator\n",
    "import matplotlib.pyplot as plt"
   ]
  },
  {
   "cell_type": "code",
   "execution_count": 2,
   "id": "2f2a1a87",
   "metadata": {},
   "outputs": [],
   "source": [
    "with open('13Mayis_SAC_CMA_200k_curriculum_iter_0.pickle', 'rb') as handle:\n",
    "    list_1 = pickle.load(handle)\n",
    "    \n",
    "with open('13Mayis_SAC_CMA_200k_curriculum_iter_0_deepdrone.pickle', 'rb') as handle:\n",
    "    list_2 = pickle.load(handle)"
   ]
  },
  {
   "cell_type": "code",
   "execution_count": 3,
   "id": "49853bd0",
   "metadata": {},
   "outputs": [],
   "source": [
    "init_list = dict()\n",
    "reward_list = dict()\n",
    "init_list_2 = dict()\n",
    "reward_list_2 = dict()\n",
    "cnt = 0\n",
    "for index in range(len(list_1[0])):\n",
    "    init_list[cnt] = np.array(list_1[1][index])\n",
    "    reward_list[cnt]  = list_1[0][index]\n",
    "    cnt += 1\n",
    "\n",
    "cnt = 0\n",
    "for index in range(len(list_2[0])):\n",
    "    init_list_2[cnt] = np.array(list_2[1][index])\n",
    "    reward_list_2[cnt]  = list_2[0][index]\n",
    "    cnt += 1"
   ]
  },
  {
   "cell_type": "code",
   "execution_count": 4,
   "id": "04a4b40a",
   "metadata": {},
   "outputs": [
    {
     "name": "stdout",
     "output_type": "stream",
     "text": [
      "17\n",
      "18\n"
     ]
    }
   ],
   "source": [
    "reward_sorted = sorted(reward_list.items(), key=operator.itemgetter(1), reverse=True)\n",
    "index = reward_sorted[0][0]\n",
    "print(index)\n",
    "\n",
    "reward_sorted_2 = sorted(reward_list_2.items(), key=operator.itemgetter(1), reverse=True)\n",
    "index = reward_sorted_2[0][0]\n",
    "print(index)"
   ]
  },
  {
   "cell_type": "code",
   "execution_count": 5,
   "id": "9723cbb9",
   "metadata": {},
   "outputs": [
    {
     "data": {
      "text/plain": [
       "[(18, 137.64690024),\n",
       " (24, 137.07163817),\n",
       " (15, 136.22170551),\n",
       " (14, 135.79348223),\n",
       " (13, 132.11185788000003),\n",
       " (26, 131.47494021),\n",
       " (16, 130.59305739),\n",
       " (27, 130.53730224),\n",
       " (25, 126.49910858),\n",
       " (20, 122.07471229),\n",
       " (12, 119.74719201000002),\n",
       " (22, 119.4104589),\n",
       " (3, 111.41660974000003),\n",
       " (23, 110.70279137999998),\n",
       " (17, 109.02599653000001),\n",
       " (28, 108.43090425),\n",
       " (19, 107.84927114),\n",
       " (7, 100.20173658999998),\n",
       " (6, 91.27414904999999),\n",
       " (5, 90.28887882999997),\n",
       " (21, 89.82494986),\n",
       " (8, 86.24332685000002),\n",
       " (4, 84.44283412),\n",
       " (2, 77.72988945000002),\n",
       " (10, 73.20060572),\n",
       " (9, 68.83428943),\n",
       " (11, 59.51109619999999),\n",
       " (1, 12.279098520000002),\n",
       " (0, 8.14571593)]"
      ]
     },
     "execution_count": 5,
     "metadata": {},
     "output_type": "execute_result"
    }
   ],
   "source": [
    "reward_sorted_2"
   ]
  },
  {
   "cell_type": "code",
   "execution_count": 6,
   "id": "757bb81f",
   "metadata": {},
   "outputs": [
    {
     "data": {
      "text/plain": [
       "[(17, 157.24789482),\n",
       " (20, 152.73815671),\n",
       " (21, 150.97630633999998),\n",
       " (23, 150.874533),\n",
       " (22, 146.75944001999997),\n",
       " (24, 146.04644885),\n",
       " (3, 141.26336252000002),\n",
       " (5, 138.35509008),\n",
       " (8, 137.16130493),\n",
       " (18, 131.63004033999997),\n",
       " (19, 128.63174714),\n",
       " (4, 128.5311531),\n",
       " (16, 127.68092939),\n",
       " (13, 124.28838129999998),\n",
       " (2, 123.26369583000002),\n",
       " (14, 118.51878158),\n",
       " (6, 115.94897551999999),\n",
       " (15, 115.93466359999998),\n",
       " (7, 113.75987796),\n",
       " (1, 97.9369588),\n",
       " (10, 88.83464765),\n",
       " (12, 78.51614689),\n",
       " (11, 71.17535314000001),\n",
       " (9, 22.064596849999997),\n",
       " (0, -107.16487940000003)]"
      ]
     },
     "execution_count": 6,
     "metadata": {},
     "output_type": "execute_result"
    }
   ],
   "source": [
    "reward_sorted"
   ]
  },
  {
   "cell_type": "code",
   "execution_count": 7,
   "id": "083ec77e",
   "metadata": {},
   "outputs": [
    {
     "data": {
      "text/plain": [
       "{0: -107.16487940000003,\n",
       " 1: 97.9369588,\n",
       " 2: 123.26369583000002,\n",
       " 3: 141.26336252000002,\n",
       " 4: 128.5311531,\n",
       " 5: 138.35509008,\n",
       " 6: 115.94897551999999,\n",
       " 7: 113.75987796,\n",
       " 8: 137.16130493,\n",
       " 9: 22.064596849999997,\n",
       " 10: 88.83464765,\n",
       " 11: 71.17535314000001,\n",
       " 12: 78.51614689,\n",
       " 13: 124.28838129999998,\n",
       " 14: 118.51878158,\n",
       " 15: 115.93466359999998,\n",
       " 16: 127.68092939,\n",
       " 17: 157.24789482,\n",
       " 18: 131.63004033999997,\n",
       " 19: 128.63174714,\n",
       " 20: 152.73815671,\n",
       " 21: 150.97630633999998,\n",
       " 22: 146.75944001999997,\n",
       " 23: 150.874533,\n",
       " 24: 146.04644885}"
      ]
     },
     "execution_count": 7,
     "metadata": {},
     "output_type": "execute_result"
    }
   ],
   "source": [
    "reward_list"
   ]
  },
  {
   "cell_type": "code",
   "execution_count": 8,
   "id": "08d1e61d",
   "metadata": {},
   "outputs": [
    {
     "data": {
      "image/png": "[encoded data removed]",
      "text/plain": [
       "<Figure size 432x288 with 1 Axes>"
      ]
     },
     "metadata": {
      "needs_background": "light"
     },
     "output_type": "display_data"
    },
    {
     "name": "stdout",
     "output_type": "stream",
     "text": [
      "Max reward:  (18, 137.64690024)\n"
     ]
    }
   ],
   "source": [
    "# reward_list_2\n",
    "# plt.bar(range(len(reward_list_2)), list(reward_list_2.values()), align='center')\n",
    "# plt.xticks(range(len(reward_list_2)), list(reward_list_2.keys()))\n",
    "plt.plot(list(reward_list_2.values()))\n",
    "plt.xlabel('Generation')\n",
    "plt.ylabel('Reward')\n",
    "plt.title('Reward values in target env')\n",
    "plt.show()\n",
    "print (\"Max reward: \", reward_sorted_2[0])"
   ]
  },
  {
   "cell_type": "code",
   "execution_count": null,
   "id": "14c6b2e7",
   "metadata": {},
   "outputs": [],
   "source": []
  },
  {
   "cell_type": "code",
   "execution_count": 9,
   "id": "0baffae9",
   "metadata": {},
   "outputs": [
    {
     "data": {
      "image/png": "[encoded data removed]",
      "text/plain": [
       "<Figure size 432x288 with 1 Axes>"
      ]
     },
     "metadata": {
      "needs_background": "light"
     },
     "output_type": "display_data"
    },
    {
     "name": "stdout",
     "output_type": "stream",
     "text": [
      "Max reward:  (17, 157.24789482)\n"
     ]
    }
   ],
   "source": [
    "plt.plot(list(reward_list.values()))\n",
    "plt.xlabel('Generation')\n",
    "plt.ylabel('Reward')\n",
    "plt.title('Reward values in target env')\n",
    "plt.show()\n",
    "print (\"Max reward: \", reward_sorted[0])"
   ]
  },
  {
   "cell_type": "code",
   "execution_count": 101,
   "id": "79f0d2b9",
   "metadata": {},
   "outputs": [
    {
     "data": {
      "text/plain": [
       "[[-82.14778700000001, -97.41463540000001],\n",
       " [-53.12683930000001, -93.5002686],\n",
       " [-59.306212900000006, -93.7491514],\n",
       " [-68.2079326, -61.329777],\n",
       " [33.929578, -206.09746239999998]]"
      ]
     },
     "execution_count": 101,
     "metadata": {},
     "output_type": "execute_result"
    }
   ],
   "source": [
    "with open('24Nisan_SAC_test_250k_results.pickle', 'rb') as handle:\n",
    "    results = pickle.load(handle)\n",
    "results"
   ]
  },
  {
   "cell_type": "code",
   "execution_count": 100,
   "id": "d7c6d06f",
   "metadata": {},
   "outputs": [
    {
     "data": {
      "text/plain": [
       "array([-13.10104382,  29.86928714])"
      ]
     },
     "execution_count": 100,
     "metadata": {},
     "output_type": "execute_result"
    }
   ],
   "source": [
    "init_list[0][0:2]"
   ]
  },
  {
   "cell_type": "code",
   "execution_count": null,
   "id": "b502839b",
   "metadata": {},
   "outputs": [],
   "source": []
  }
 ],
 "metadata": {
  "kernelspec": {
   "display_name": "Python 3 (ipykernel)",
   "language": "python",
   "name": "python3"
  },
  "language_info": {
   "codemirror_mode": {
    "name": "ipython",
    "version": 3
   },
   "file_extension": ".py",
   "mimetype": "text/x-python",
   "name": "python",
   "nbconvert_exporter": "python",
   "pygments_lexer": "ipython3",
   "version": "3.8.13"
  }
 },
 "nbformat": 4,
 "nbformat_minor": 5
}
